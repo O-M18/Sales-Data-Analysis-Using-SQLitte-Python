{
 "cells": [
  {
   "cell_type": "code",
   "execution_count": 52,
   "id": "70aec64a",
   "metadata": {},
   "outputs": [
    {
     "name": "stdout",
     "output_type": "stream",
     "text": [
      "Requirement already satisfied: pandas in c:\\users\\admin\\pycharmprojects\\sql_lite(task-7)\\venv\\lib\\site-packages (2.3.0)\n",
      "Requirement already satisfied: matplotlib in c:\\users\\admin\\pycharmprojects\\sql_lite(task-7)\\venv\\lib\\site-packages (3.10.3)\n",
      "Collecting seaborn\n",
      "  Using cached seaborn-0.13.2-py3-none-any.whl (294 kB)\n",
      "Requirement already satisfied: numpy>=1.23.2 in c:\\users\\admin\\pycharmprojects\\sql_lite(task-7)\\venv\\lib\\site-packages (from pandas) (2.2.6)\n",
      "Requirement already satisfied: python-dateutil>=2.8.2 in c:\\users\\admin\\pycharmprojects\\sql_lite(task-7)\\venv\\lib\\site-packages (from pandas) (2.9.0.post0)\n",
      "Requirement already satisfied: pytz>=2020.1 in c:\\users\\admin\\pycharmprojects\\sql_lite(task-7)\\venv\\lib\\site-packages (from pandas) (2025.2)\n",
      "Requirement already satisfied: tzdata>=2022.7 in c:\\users\\admin\\pycharmprojects\\sql_lite(task-7)\\venv\\lib\\site-packages (from pandas) (2025.2)\n",
      "Requirement already satisfied: contourpy>=1.0.1 in c:\\users\\admin\\pycharmprojects\\sql_lite(task-7)\\venv\\lib\\site-packages (from matplotlib) (1.3.2)\n",
      "Requirement already satisfied: cycler>=0.10 in c:\\users\\admin\\pycharmprojects\\sql_lite(task-7)\\venv\\lib\\site-packages (from matplotlib) (0.12.1)\n",
      "Requirement already satisfied: fonttools>=4.22.0 in c:\\users\\admin\\pycharmprojects\\sql_lite(task-7)\\venv\\lib\\site-packages (from matplotlib) (4.58.1)\n",
      "Requirement already satisfied: kiwisolver>=1.3.1 in c:\\users\\admin\\pycharmprojects\\sql_lite(task-7)\\venv\\lib\\site-packages (from matplotlib) (1.4.8)\n",
      "Requirement already satisfied: packaging>=20.0 in c:\\users\\admin\\pycharmprojects\\sql_lite(task-7)\\venv\\lib\\site-packages (from matplotlib) (25.0)\n",
      "Requirement already satisfied: pillow>=8 in c:\\users\\admin\\pycharmprojects\\sql_lite(task-7)\\venv\\lib\\site-packages (from matplotlib) (11.2.1)\n",
      "Requirement already satisfied: pyparsing>=2.3.1 in c:\\users\\admin\\pycharmprojects\\sql_lite(task-7)\\venv\\lib\\site-packages (from matplotlib) (3.2.3)\n",
      "Requirement already satisfied: six>=1.5 in c:\\users\\admin\\pycharmprojects\\sql_lite(task-7)\\venv\\lib\\site-packages (from python-dateutil>=2.8.2->pandas) (1.17.0)\n",
      "Installing collected packages: seaborn\n",
      "Successfully installed seaborn-0.13.2\n"
     ]
    },
    {
     "name": "stderr",
     "output_type": "stream",
     "text": [
      "\n",
      "[notice] A new release of pip available: 22.3.1 -> 25.1.1\n",
      "[notice] To update, run: python.exe -m pip install --upgrade pip\n"
     ]
    }
   ],
   "source": [
    "! pip install pandas matplotlib seaborn\n"
   ]
  },
  {
   "cell_type": "code",
   "execution_count": 53,
   "id": "5985f5ca",
   "metadata": {},
   "outputs": [],
   "source": [
    "import pandas as pd\n",
    "import sqlite3\n",
    "import matplotlib.pyplot as plt\n",
    "import seaborn as sns\n",
    "\n",
    "%matplotlib inline"
   ]
  },
  {
   "cell_type": "code",
   "execution_count": 13,
   "id": "14bd81ea",
   "metadata": {},
   "outputs": [
    {
     "data": {
      "text/html": [
       "<div>\n",
       "<style scoped>\n",
       "    .dataframe tbody tr th:only-of-type {\n",
       "        vertical-align: middle;\n",
       "    }\n",
       "\n",
       "    .dataframe tbody tr th {\n",
       "        vertical-align: top;\n",
       "    }\n",
       "\n",
       "    .dataframe thead th {\n",
       "        text-align: right;\n",
       "    }\n",
       "</style>\n",
       "<table border=\"1\" class=\"dataframe\">\n",
       "  <thead>\n",
       "    <tr style=\"text-align: right;\">\n",
       "      <th></th>\n",
       "      <th>Invoice</th>\n",
       "      <th>StockCode</th>\n",
       "      <th>Description</th>\n",
       "      <th>Quantity</th>\n",
       "      <th>InvoiceDate</th>\n",
       "      <th>Price</th>\n",
       "      <th>Customer ID</th>\n",
       "      <th>Country</th>\n",
       "    </tr>\n",
       "  </thead>\n",
       "  <tbody>\n",
       "    <tr>\n",
       "      <th>0</th>\n",
       "      <td>489434</td>\n",
       "      <td>85048</td>\n",
       "      <td>15CM CHRISTMAS GLASS BALL 20 LIGHTS</td>\n",
       "      <td>12</td>\n",
       "      <td>12/1/2009 7:45</td>\n",
       "      <td>6.95</td>\n",
       "      <td>13085.0</td>\n",
       "      <td>United Kingdom</td>\n",
       "    </tr>\n",
       "    <tr>\n",
       "      <th>1</th>\n",
       "      <td>489434</td>\n",
       "      <td>79323P</td>\n",
       "      <td>PINK CHERRY LIGHTS</td>\n",
       "      <td>12</td>\n",
       "      <td>12/1/2009 7:45</td>\n",
       "      <td>6.75</td>\n",
       "      <td>13085.0</td>\n",
       "      <td>United Kingdom</td>\n",
       "    </tr>\n",
       "    <tr>\n",
       "      <th>2</th>\n",
       "      <td>489434</td>\n",
       "      <td>79323W</td>\n",
       "      <td>WHITE CHERRY LIGHTS</td>\n",
       "      <td>12</td>\n",
       "      <td>12/1/2009 7:45</td>\n",
       "      <td>6.75</td>\n",
       "      <td>13085.0</td>\n",
       "      <td>United Kingdom</td>\n",
       "    </tr>\n",
       "  </tbody>\n",
       "</table>\n",
       "</div>"
      ],
      "text/plain": [
       "  Invoice StockCode                          Description  Quantity  \\\n",
       "0  489434     85048  15CM CHRISTMAS GLASS BALL 20 LIGHTS        12   \n",
       "1  489434    79323P                   PINK CHERRY LIGHTS        12   \n",
       "2  489434    79323W                  WHITE CHERRY LIGHTS        12   \n",
       "\n",
       "      InvoiceDate  Price  Customer ID         Country  \n",
       "0  12/1/2009 7:45   6.95      13085.0  United Kingdom  \n",
       "1  12/1/2009 7:45   6.75      13085.0  United Kingdom  \n",
       "2  12/1/2009 7:45   6.75      13085.0  United Kingdom  "
      ]
     },
     "execution_count": 13,
     "metadata": {},
     "output_type": "execute_result"
    }
   ],
   "source": [
    "file=r'C:\\Users\\Admin\\PycharmProjects\\SQL_Lite(Task-7)\\online_retail_II.csv'\n",
    "try:\n",
    "    df = pd.read_csv(file, encoding=\"utf-8\")\n",
    "except UnicodeDecodeError:\n",
    "    df = pd.read_csv(file, encoding=\"latin1\")\n",
    "df.head(3)"
   ]
  },
  {
   "cell_type": "code",
   "execution_count": 14,
   "id": "63db17dc",
   "metadata": {},
   "outputs": [
    {
     "data": {
      "text/plain": [
       "525461"
      ]
     },
     "execution_count": 14,
     "metadata": {},
     "output_type": "execute_result"
    }
   ],
   "source": [
    "conn=sqlite3.connect('sales_data.db')\n",
    "df.to_sql('sales',conn,index=False)"
   ]
  },
  {
   "cell_type": "code",
   "execution_count": 64,
   "id": "7e9fa112",
   "metadata": {},
   "outputs": [
    {
     "name": "stdout",
     "output_type": "stream",
     "text": [
      "  Invoice StockCode                          Description  Quantity  \\\n",
      "0  489434     85048  15CM CHRISTMAS GLASS BALL 20 LIGHTS        12   \n",
      "1  489434    79323P                   PINK CHERRY LIGHTS        12   \n",
      "2  489434    79323W                  WHITE CHERRY LIGHTS        12   \n",
      "3  489434     22041         RECORD FRAME 7\" SINGLE SIZE         48   \n",
      "4  489434     21232       STRAWBERRY CERAMIC TRINKET BOX        24   \n",
      "5  489434     22064           PINK DOUGHNUT TRINKET POT         24   \n",
      "6  489434     21871                  SAVE THE PLANET MUG        24   \n",
      "7  489434     21523   FANCY FONT HOME SWEET HOME DOORMAT        10   \n",
      "8  489435     22350                            CAT BOWL         12   \n",
      "9  489435     22349       DOG BOWL , CHASING BALL DESIGN        12   \n",
      "\n",
      "      InvoiceDate  Price  Customer ID         Country  \n",
      "0  12/1/2009 7:45   6.95      13085.0  United Kingdom  \n",
      "1  12/1/2009 7:45   6.75      13085.0  United Kingdom  \n",
      "2  12/1/2009 7:45   6.75      13085.0  United Kingdom  \n",
      "3  12/1/2009 7:45   2.10      13085.0  United Kingdom  \n",
      "4  12/1/2009 7:45   1.25      13085.0  United Kingdom  \n",
      "5  12/1/2009 7:45   1.65      13085.0  United Kingdom  \n",
      "6  12/1/2009 7:45   1.25      13085.0  United Kingdom  \n",
      "7  12/1/2009 7:45   5.95      13085.0  United Kingdom  \n",
      "8  12/1/2009 7:46   2.55      13085.0  United Kingdom  \n",
      "9  12/1/2009 7:46   3.75      13085.0  United Kingdom  \n"
     ]
    }
   ],
   "source": [
    "result=pd.read_sql_query('Select * from sales limit 10;',conn)\n",
    "print(result)\n",
    "conn.close()"
   ]
  },
  {
   "cell_type": "code",
   "execution_count": 20,
   "id": "952e84c6",
   "metadata": {},
   "outputs": [
    {
     "name": "stdout",
     "output_type": "stream",
     "text": [
      "All records as DataFrame:\n",
      "  Invoice StockCode                          Description  Quantity  \\\n",
      "0  489434     85048  15CM CHRISTMAS GLASS BALL 20 LIGHTS        12   \n",
      "1  489434    79323P                   PINK CHERRY LIGHTS        12   \n",
      "2  489434    79323W                  WHITE CHERRY LIGHTS        12   \n",
      "3  489434     22041         RECORD FRAME 7\" SINGLE SIZE         48   \n",
      "4  489434     21232       STRAWBERRY CERAMIC TRINKET BOX        24   \n",
      "5  489434     22064           PINK DOUGHNUT TRINKET POT         24   \n",
      "6  489434     21871                  SAVE THE PLANET MUG        24   \n",
      "7  489434     21523   FANCY FONT HOME SWEET HOME DOORMAT        10   \n",
      "8  489435     22350                            CAT BOWL         12   \n",
      "9  489435     22349       DOG BOWL , CHASING BALL DESIGN        12   \n",
      "\n",
      "      InvoiceDate  Price  Customer ID         Country  \n",
      "0  12/1/2009 7:45   6.95      13085.0  United Kingdom  \n",
      "1  12/1/2009 7:45   6.75      13085.0  United Kingdom  \n",
      "2  12/1/2009 7:45   6.75      13085.0  United Kingdom  \n",
      "3  12/1/2009 7:45   2.10      13085.0  United Kingdom  \n",
      "4  12/1/2009 7:45   1.25      13085.0  United Kingdom  \n",
      "5  12/1/2009 7:45   1.65      13085.0  United Kingdom  \n",
      "6  12/1/2009 7:45   1.25      13085.0  United Kingdom  \n",
      "7  12/1/2009 7:45   5.95      13085.0  United Kingdom  \n",
      "8  12/1/2009 7:46   2.55      13085.0  United Kingdom  \n",
      "9  12/1/2009 7:46   3.75      13085.0  United Kingdom  \n"
     ]
    }
   ],
   "source": [
    "with sqlite3.connect('sales_data.db') as conn:\n",
    "    # Write the SQL command to select all records from the Students table\n",
    "    select_query = \"SELECT * FROM sales limit 10;\"\n",
    "\n",
    "    # Use pandas to read SQL query directly into a DataFrame\n",
    "    result = pd.read_sql_query(select_query, conn)\n",
    "\n",
    "# Display the DataFrame\n",
    "print(\"All records as DataFrame:\")\n",
    "print(result)\n"
   ]
  },
  {
   "cell_type": "code",
   "execution_count": 40,
   "id": "2c6ed0fd",
   "metadata": {},
   "outputs": [
    {
     "name": "stdout",
     "output_type": "stream",
     "text": [
      "query execute\n"
     ]
    }
   ],
   "source": [
    "with sqlite3.connect('sales_data.db') as conn:\n",
    "    cursor=conn.cursor()\n",
    "    query='''UPDATE sales \n",
    "    SET Quantity = Quantity * -1 \n",
    "    where Quantity<0 ;'''\n",
    "    cursor.execute(query)\n",
    "    print('query execute')\n",
    "    conn.commit()"
   ]
  },
  {
   "cell_type": "code",
   "execution_count": 43,
   "id": "22ce400f",
   "metadata": {},
   "outputs": [
    {
     "name": "stdout",
     "output_type": "stream",
     "text": [
      "query execute\n"
     ]
    }
   ],
   "source": [
    "with sqlite3.connect('sales_data.db') as conn:\n",
    "    cursor=conn.cursor()\n",
    "    query='''UPDATE sales \n",
    "    SET Price = Price * -1 \n",
    "    where Price<0 ;'''\n",
    "    cursor.execute(query)\n",
    "    print('query execute')\n",
    "    conn.commit()"
   ]
  },
  {
   "cell_type": "code",
   "execution_count": 44,
   "id": "3a998d7d",
   "metadata": {},
   "outputs": [
    {
     "name": "stdout",
     "output_type": "stream",
     "text": [
      "   Total_negative\n",
      "0               0\n"
     ]
    }
   ],
   "source": [
    "with sqlite3.connect('sales_data.db') as conn:\n",
    "    query='''SELECT count(* ) as Total_negative\n",
    "            From sales\n",
    "            where Price<0 ;'''\n",
    "    result=pd.read_sql_query(query,conn)\n",
    "    print(result)"
   ]
  },
  {
   "cell_type": "code",
   "execution_count": 45,
   "id": "0fc548ba",
   "metadata": {},
   "outputs": [
    {
     "name": "stdout",
     "output_type": "stream",
     "text": [
      "   Total_negative\n",
      "0               0\n"
     ]
    }
   ],
   "source": [
    "with sqlite3.connect('sales_data.db') as conn:\n",
    "    query='''SELECT count(* ) as Total_negative\n",
    "            From sales\n",
    "            where price<0 ;'''\n",
    "    result=pd.read_sql_query(query,conn)\n",
    "    print(result)"
   ]
  },
  {
   "cell_type": "code",
   "execution_count": 46,
   "id": "1e0d7897",
   "metadata": {},
   "outputs": [
    {
     "name": "stdout",
     "output_type": "stream",
     "text": [
      "       Invoice StockCode                          Description  Quantity  \\\n",
      "0       489434     85048  15CM CHRISTMAS GLASS BALL 20 LIGHTS        12   \n",
      "1       489434    79323P                   PINK CHERRY LIGHTS        12   \n",
      "2       489434    79323W                  WHITE CHERRY LIGHTS        12   \n",
      "3       489434     22041         RECORD FRAME 7\" SINGLE SIZE         48   \n",
      "4       489434     21232       STRAWBERRY CERAMIC TRINKET BOX        24   \n",
      "...        ...       ...                                  ...       ...   \n",
      "525456  538171     22271                 FELTCRAFT DOLL ROSIE         2   \n",
      "525457  538171     22750         FELTCRAFT PRINCESS LOLA DOLL         1   \n",
      "525458  538171     22751       FELTCRAFT PRINCESS OLIVIA DOLL         1   \n",
      "525459  538171     20970   PINK FLORAL FELTCRAFT SHOULDER BAG         2   \n",
      "525460  538171     21931               JUMBO STORAGE BAG SUKI         2   \n",
      "\n",
      "            InvoiceDate  Price  Customer ID         Country  revenue  \n",
      "0        12/1/2009 7:45   6.95      13085.0  United Kingdom    83.40  \n",
      "1        12/1/2009 7:45   6.75      13085.0  United Kingdom    81.00  \n",
      "2        12/1/2009 7:45   6.75      13085.0  United Kingdom    81.00  \n",
      "3        12/1/2009 7:45   2.10      13085.0  United Kingdom   100.80  \n",
      "4        12/1/2009 7:45   1.25      13085.0  United Kingdom    30.00  \n",
      "...                 ...    ...          ...             ...      ...  \n",
      "525456  12/9/2010 20:01   2.95      17530.0  United Kingdom     5.90  \n",
      "525457  12/9/2010 20:01   3.75      17530.0  United Kingdom     3.75  \n",
      "525458  12/9/2010 20:01   3.75      17530.0  United Kingdom     3.75  \n",
      "525459  12/9/2010 20:01   3.75      17530.0  United Kingdom     7.50  \n",
      "525460  12/9/2010 20:01   1.95      17530.0  United Kingdom     3.90  \n",
      "\n",
      "[525461 rows x 9 columns]\n"
     ]
    }
   ],
   "source": [
    "with sqlite3.connect('sales_data.db') as conn:\n",
    "    query='''SELECT *,(Quantity * price) as revenue\n",
    "            From sales ;'''\n",
    "    result=pd.read_sql_query(query,conn)\n",
    "    print(result)"
   ]
  },
  {
   "cell_type": "code",
   "execution_count": 48,
   "id": "9442dbb1",
   "metadata": {},
   "outputs": [
    {
     "name": "stdout",
     "output_type": "stream",
     "text": [
      "     StockCode  total_qty    revenue\n",
      "0            M       4213  540081.29\n",
      "1        22423      14624  177105.56\n",
      "2       85123A      59740  161356.22\n",
      "3            B          3  136552.02\n",
      "4          DOT       1235  116415.43\n",
      "...        ...        ...        ...\n",
      "4627     16131          1       0.00\n",
      "4628    16065A          2       0.00\n",
      "4629    15060A          8       0.00\n",
      "4630     15002       1000       0.00\n",
      "4631    10124C          5       0.00\n",
      "\n",
      "[4632 rows x 3 columns]\n"
     ]
    }
   ],
   "source": [
    "with sqlite3.connect('sales_data.db') as conn:\n",
    "    query='''SELECT StockCode, SUM(quantity) AS total_qty, SUM(quantity * price) AS\n",
    "             revenue FROM sales GROUP BY StockCode ORDER BY 3 desc;'''\n",
    "    result=pd.read_sql_query(query,conn)\n",
    "    print(result)"
   ]
  },
  {
   "cell_type": "code",
   "execution_count": 67,
   "id": "76c3b45a",
   "metadata": {},
   "outputs": [
    {
     "data": {
      "image/png": "[encoded data removed]",
      "text/plain": [
       "<Figure size 1200x600 with 1 Axes>"
      ]
     },
     "metadata": {},
     "output_type": "display_data"
    }
   ],
   "source": [
    "with sqlite3.connect('sales_data.db') as conn:\n",
    "        query='''SELECT Country,sum(Quantity * price) as revenue\n",
    "                From sales  group by 1  order by 2 desc limit 10 ;'''\n",
    "        result=pd.read_sql_query(query,conn)\n",
    "        plt.figure(figsize=(12, 6))\n",
    "        sns.barplot(data=result, x=\"Country\", y=\"revenue\")\n",
    "        plt.xticks(rotation=45)\n",
    "        plt.title(\"Revenue by Country\")\n",
    "        plt.tight_layout()\n",
    "        plt.show()"
   ]
  },
  {
   "cell_type": "code",
   "execution_count": null,
   "id": "c78cb703",
   "metadata": {},
   "outputs": [],
   "source": []
  }
 ],
 "metadata": {
  "kernelspec": {
   "display_name": "venv",
   "language": "python",
   "name": "python3"
  },
  "language_info": {
   "codemirror_mode": {
    "name": "ipython",
    "version": 3
   },
   "file_extension": ".py",
   "mimetype": "text/x-python",
   "name": "python",
   "nbconvert_exporter": "python",
   "pygments_lexer": "ipython3",
   "version": "3.11.2"
  }
 },
 "nbformat": 4,
 "nbformat_minor": 5
}
